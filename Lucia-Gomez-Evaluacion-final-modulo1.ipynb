{
 "cells": [
  {
   "cell_type": "markdown",
   "id": "26b98ee6",
   "metadata": {},
   "source": [
    "⚠️¡Subir readme!"
   ]
  },
  {
   "cell_type": "markdown",
   "id": "847c20b0",
   "metadata": {},
   "source": [
    "# RECURSOS PRINCIPALES DEL EJERCICIO\n",
    "\n",
    "1. `inventario` (lista de diccionarios): Una estructura para almacenar los \n",
    "productos en el inventario. Cada producto debe ser representado como un \n",
    "diccionario con las siguientes claves: `'nombre'`, `'precio'`, y \n",
    "`'cantidad'`. Al principio deberá ser una lista vacía. Ejemplo de como \n",
    "debería ser: \n",
    " \n",
    "      ```python \n",
    "      [{'nombre': 'Camisa', 'precio': 20, 'cantidad': 40}, \n",
    "      {'nombre': 'Pantalón', 'precio': 30, 'cantidad': 30}] \n",
    "      ``` \n",
    " \n",
    "  2. `clientes` (diccionario): Una estructura para llevar un registro de los \n",
    "clientes de la tienda. Cada cliente debe ser representado como un \n",
    "diccionario con las siguientes claves: `'nombre'` y `'email'`. Al inicio \n",
    "deberá ser un diccionario vacío. Además, cada cliente debe tener un \n",
    "historial de compras. Deberá parecerse a: \n",
    " \n",
    "      ```python \n",
    "      {'Cliente1': {'email': 'cliente1@email.com', 'compras': []}, \n",
    "      'Cliente2': {'email': 'cliente2@email.com', 'compras': []}} \n",
    "      ``` \n",
    " \n",
    "  3. `ventas_totales` (float): Una variable para llevar un registro de las \n",
    "ventas totales de la tienda. Inicializalo con valor 0. "
   ]
  },
  {
   "cell_type": "markdown",
   "id": "6e7f00e9",
   "metadata": {},
   "source": [
    "Requisitos a cumplir:"
   ]
  },
  {
   "cell_type": "markdown",
   "id": "08136028",
   "metadata": {},
   "source": [
    "1. `agregar_producto(nombre, precio, cantidad)`: Esta función agrega un\n",
    "producto al inventario o actualiza su cantidad si ya existe. Debe recibir el\n",
    "nombre, precio y cantidad del producto como parámetros.\n",
    "- Itera a través del inventario y compara los nombres de los productos\n",
    "con el nombre proporcionado.\n",
    "- Si el producto ya existe, actualiza la cantidad.\n",
    "- Si no existe, agrega un nuevo producto al inventario."
   ]
  },
  {
   "cell_type": "code",
   "execution_count": null,
   "id": "fb2bb7fa",
   "metadata": {},
   "outputs": [],
   "source": [
    "#respuesta con función para reutilizar en el futuro\n",
    "\n",
    "inventario = [{'nombre': 'Camisa', 'precio': 20, 'cantidad': 40},\n",
    "            {'nombre': 'Pantalón', 'precio': 30, 'cantidad': 30}] \n"
   ]
  },
  {
   "cell_type": "code",
   "execution_count": null,
   "id": "4a874217",
   "metadata": {},
   "outputs": [],
   "source": [
    "def agregar_producto(nombre, precio, cantidad):         #se indican las 3 características inicialmente aunque solo vamos a tratar con 2\n",
    "    for articulo in inventario:\n",
    "        if articulo['nombre'] == nombre:                #si el nombre del nuevo articulo ya está en la lista,\n",
    "            articulo['cantidad'] += cantidad            #pasará a comprobar también la cantidad para actualizarla con la nueva\n",
    "            print(f\"artículo actualizado: {articulo}\")\n",
    "            break\n",
    "    else:                                                                           #en el caso de que no estuviera,\n",
    "        nuevo_articulo = {'nombre': nombre, 'precio': precio, 'cantidad': cantidad}                                                                     \n",
    "        inventario.append(nuevo_articulo)                                         #le indicamos que la añada\n",
    "        print(f\"Nuevo articulo agregado: {nuevo_articulo}\")\n",
    "    return"
   ]
  },
  {
   "cell_type": "code",
   "execution_count": null,
   "id": "fffa2b14",
   "metadata": {},
   "outputs": [],
   "source": [
    "agregar_producto(\"Zapatos\", 50, 5)\n",
    "\n",
    "print(inventario)   #el inventario quedaría de esta manera"
   ]
  },
  {
   "cell_type": "markdown",
   "id": "8153992d",
   "metadata": {},
   "source": [
    "2. `ver_inventario()`: Muestra el inventario de productos con sus detalles.\n",
    "- Utiliza un bucle `for` para recorrer el inventario.\n",
    "- Imprime los detalles (nombre, precio, cantidad) de cada producto.\n",
    "- Debería verse:\n",
    "```python\n",
    "Nombre: Camisa, Precio: $20, Cantidad: 50\n",
    "Nombre: Pantalón, Precio: $30, Cantidad: 30\n",
    "Nombre: Zapatos, Precio: $50, Cantidad: 40\n",
    "Nombre: Camisa, Precio: $20, Cantidad: 50\n",
    "```"
   ]
  },
  {
   "cell_type": "code",
   "execution_count": null,
   "id": "f79168fc",
   "metadata": {},
   "outputs": [],
   "source": [
    "#Creo que es un bucle (usar for in) que debemos parar (break) una vez vuelve a empezar \"la segunda vuelta\"\n",
    "# para mantener el primer diccionario que en este caso es camisa, y por eso sale repetido en el output.\n",
    "\n",
    "def ver_inventario():\n",
    "   \n",
    "    for articulo in inventario:\n",
    "        print(f\"Nombre: {articulo['nombre']}, Precio: ${articulo['precio']}, Cantidad: {articulo['cantidad']}\")\n",
    "    # Después imprimes una vez más la camisa\n",
    "    for articulo in inventario:\n",
    "        if articulo[\"nombre\"].lower() == 'Camisa':\n",
    "            print(f\"Nombre: {articulo['nombre']}, Precio: ${articulo['precio']}, Cantidad: {articulo['cantidad']}\")\n",
    "            break\n",
    "    return"
   ]
  },
  {
   "cell_type": "code",
   "execution_count": null,
   "id": "bfdf93d0",
   "metadata": {},
   "outputs": [],
   "source": [
    "ver_inventario()"
   ]
  },
  {
   "cell_type": "markdown",
   "id": "70bf498b",
   "metadata": {},
   "source": [
    "3. `buscar_producto(nombre)`: Busca un producto en el inventario por nombre\n",
    "y muestra sus detalles si se encuentra. \n",
    "Debe recibir el nombre del producto como parámetro.\n",
    "- Utiliza un bucle `for` para recorrer el inventario.\n",
    "- Compara los nombres de los productos con el nombre proporcionado.\n",
    "- Si se encuentra el producto, imprime sus detalles.\n",
    "- Debe mostrar:\n",
    "```python\n",
    "Nombre: Camisa, Precio: $20, Cantidad: 40\n",
    "```"
   ]
  },
  {
   "cell_type": "code",
   "execution_count": null,
   "id": "0e2277bd",
   "metadata": {},
   "outputs": [],
   "source": [
    "def buscar_producto(nombre):\n",
    "    for articulo in inventario:\n",
    "        if articulo[\"nombre\"] == \"Camisa\":\n",
    "            print(f\"Nombre: {articulo['nombre']}, Precio: ${articulo['precio']}, Cantidad: {articulo['cantidad']}\")\n",
    "    return\n",
    "           "
   ]
  },
  {
   "cell_type": "code",
   "execution_count": null,
   "id": "1b3d1e09",
   "metadata": {},
   "outputs": [],
   "source": [
    "buscar_producto(\"Camisa\")"
   ]
  },
  {
   "cell_type": "markdown",
   "id": "6ac8e96a",
   "metadata": {},
   "source": [
    "4. `actualizar_stock(nombre, cantidad)`: Actualiza el stock de un producto\n",
    "en el inventario. Debe recibir el nombre del producto y la cantidad a\n",
    "agregar o quitar como parámetros.\n",
    "- Utiliza un bucle `for` para recorrer el inventario.\n",
    "- Busca el producto por nombre.\n",
    "- Actualiza la cantidad según la entrada del usuario.\n",
    "- Si el producto no esta en el inventario muestra un mensaje\n",
    "indicándolo."
   ]
  },
  {
   "cell_type": "code",
   "execution_count": null,
   "id": "caf2470c",
   "metadata": {},
   "outputs": [],
   "source": [
    "#Hacemos print en el inventario para ver de donde partimos.\n",
    "\n",
    "ver_inventario()"
   ]
  },
  {
   "cell_type": "code",
   "execution_count": null,
   "id": "079a5624",
   "metadata": {},
   "outputs": [],
   "source": [
    "def actualizar_stock(nombre,cantidad):\n",
    "    for articulo in inventario:\n",
    "        if articulo[\"nombre\"].lower()== nombre.lower():\n",
    "            print(f\"El artículo seleccionado se encuentra en el inventario\")\n",
    "            if articulo[\"cantidad\"] >= cantidad: \n",
    "                print(f\"¡Aquí tienes tu selección! El stock actual de {articulo[\"nombre\"]} se ha actualizado y quedan {articulo[\"cantidad\"]-1} unidades\")\n",
    "            else:\n",
    "                print(f\"Lo sentimos. No hay suficientes unidades en este momento. Solo quedan {articulo['cantidad']} unidades\")\n",
    "            break\n",
    "    else:\n",
    "        print(f\"Lo sentimos. El producto seleccionado no se encuentra disponible en estos momentos.\")\n",
    "    return"
   ]
  },
  {
   "cell_type": "code",
   "execution_count": null,
   "id": "c136db14",
   "metadata": {},
   "outputs": [],
   "source": [
    "actualizar_stock(\"Zapatos\", 10)"
   ]
  },
  {
   "cell_type": "markdown",
   "id": "f625bfc7",
   "metadata": {},
   "source": [
    "5. `eliminar_producto(nombre)`: Elimina un producto del inventario por\n",
    "nombre. Debe recibir el nombre del producto como parámetro.\n",
    "- Utiliza un bucle `for` para recorrer el inventario.\n",
    "- Busca el producto por nombre.\n",
    "- Elimina el producto del inventario si existe.\n",
    "- Si el producto no esta en el inventario muestra un mensaje\n",
    "indicándolo."
   ]
  },
  {
   "cell_type": "code",
   "execution_count": null,
   "id": "1da7d5f4",
   "metadata": {},
   "outputs": [],
   "source": [
    "def eliminar_producto(nombre):\n",
    "    for articulo in inventario:\n",
    "        if articulo[\"nombre\"].lower()== nombre.lower():\n",
    "            inventario.remove(articulo)\n",
    "            print(f\"El artículo seleccionado ha sido eliminado\")\n",
    "            break\n",
    "    else:\n",
    "        print(f\"El artículo escogido no se encuentra en el inventario\")\n",
    "    return         "
   ]
  },
  {
   "cell_type": "code",
   "execution_count": null,
   "id": "c7da2376",
   "metadata": {},
   "outputs": [],
   "source": [
    "eliminar_producto(\"Camisa\")\n",
    "\n",
    "print(inventario)"
   ]
  },
  {
   "cell_type": "markdown",
   "id": "2beb9721",
   "metadata": {},
   "source": [
    "6. `calcular_valor_inventario()`: Calcula y muestra el valor total del\n",
    "inventario.\n",
    "- Utiliza un bucle for para calcular el valor total del inventario.\n",
    "- Itera a través del inventario y suma el valor de cada producto\n",
    "(precio x cantidad). Es decir, calcula el valor total del inventario.\n",
    "Ejemplo:\n",
    "```python\n",
    "# si tenemos 5 camisas que valen 5 euros\n",
    "# y 10 calcetines que valen 1 euro\n",
    "# este método te tiene que devolver: 35 euros\n",
    "valor_camisas = 5 * 5\n",
    "valor_calcetines = 10 * 1\n",
    "valor_camisas + valor_calcetines = 35\n",
    "```"
   ]
  },
  {
   "cell_type": "code",
   "execution_count": null,
   "id": "2b6cda25",
   "metadata": {},
   "outputs": [],
   "source": [
    "def calcular_valor_inventario():\n",
    "    valor_total = 0  #Creamos las variables para que se vaya sumando la operación por cada elemento\n",
    "\n",
    "    print(\"El valor del inventario por cada artículo es:\")\n",
    "\n",
    "    for articulo in inventario:     #por cada artículo dime el precio total de cada uno\n",
    "        valor_articulo = articulo['precio'] * articulo['cantidad']\n",
    "        print(f\"- {articulo['nombre']}: {articulo['cantidad']} unidades x {articulo['precio']}€ cada unidad es de {valor_articulo}€\")\n",
    "        valor_total += valor_articulo\n",
    "    return\n",
    "\n",
    "    #Esto se refiere a la suma de cada uno de los valores de cada artículo.\n",
    "    print(f\"El valor total del inventario es: {valor_total} euros.\") "
   ]
  },
  {
   "cell_type": "code",
   "execution_count": null,
   "id": "45f2bed1",
   "metadata": {},
   "outputs": [],
   "source": [
    "calcular_valor_inventario()"
   ]
  },
  {
   "cell_type": "markdown",
   "id": "eae8b336",
   "metadata": {},
   "source": [
    "7. `realizar_compra()`: Permite a un cliente realizar una compra\n",
    "seleccionando productos del inventario. Debe interactuar con el cliente para\n",
    "seleccionar productos y calcular el costo total de la compra.\n",
    "- Utiliza un bucle `while` para permitir al cliente realizar múltiples\n",
    "compras.\n",
    "- Muestra el inventario y solicita al cliente ingresar el nombre del\n",
    "producto que desea comprar.\n",
    "- Registra los productos seleccionados en un carrito y actualiza el\n",
    "inventario.\n",
    "- Calcula el costo total de la compra."
   ]
  },
  {
   "cell_type": "code",
   "execution_count": null,
   "id": "6c1a4f09",
   "metadata": {},
   "outputs": [],
   "source": [
    "ver_inventario()"
   ]
  },
  {
   "cell_type": "markdown",
   "id": "2f06ccc8",
   "metadata": {},
   "source": [
    "Esquema de orden en el codigo\n",
    "¿Qué debe hacer realizar_compra()?\n",
    "Mostrar el inventario disponible.\n",
    "\n",
    "1. Preguntar al cliente qué producto quiere comprar. (input)\n",
    "Preguntar cuántas unidades quiere. (input2)\n",
    "\n",
    "2. Comprobar si hay suficiente stock:\n",
    "    2.1. Si hay → Añadir al carrito y restar del inventario. Guardar los productos en un carrito (lista vacía)\n",
    "    2.2 Si no hay → Avisar que no hay suficiente. \n",
    "\n",
    "3. Preguntar si quiere continuar comprando. \n",
    "\n",
    "    3.1. Si es así , el blucle se inicia de nuevo ; Volver al punto 1 para que siga introduciendo productos. \n",
    "    3.2.  Si es que no, siguiente paso.\n",
    "\n",
    "4. Enseñarle precio por artículo y el total de la cesta.\n",
    "\n",
    "5. Preguntar: ¿desea finalizar la compra? ()booleano SÍ/NO?\n",
    "    5.1. Si dice que SÍ --> Su cesta ha sido confirmada. Podrá pagar en unos segundos. \n",
    "    5.2. Si dice que NO, volver al paso 3."
   ]
  },
  {
   "cell_type": "code",
   "execution_count": 21,
   "id": "b15dd3e6",
   "metadata": {},
   "outputs": [],
   "source": [
    "\n",
    "def realizar_compra():\n",
    "    inventario\n",
    "    cesta_cliente = []\n",
    "    precio_total_cesta = 0\n",
    "    print(\"Bienvenido al menú de selección de productos\")\n",
    "\n",
    "    while True:\n",
    "        peticion_cliente_articulo= input(f\"Por favor, introduzca el artículo que desea adquirir. Si no desea ninguno, introduzca stop.\").lower()\n",
    "        if peticion_cliente_articulo.lower() == \"fin\":\n",
    "            print(f\"Adiós. Le esperamos en otro momento.\")\n",
    "            break\n",
    "        for articulo in inventario:         #creo que este código es el de la funcion anterior de actualizar inventario pero no estoy segura...\n",
    "            if articulo[\"nombre\"].lower()== peticion_cliente_articulo.lower():\n",
    "                cantidad = int(input(f\"Ha seleccionado {articulo['nombre']}.¿Cuántas unidades desea?\"))\n",
    "                if cantidad > articulo[\"cantidad\"]:\n",
    "                    print(f\"Lo sentimos. En este momento solo disponemos de {articulo[\"cantidad\"]} unidades de ese artículo.\")\n",
    "                else:\n",
    "                    if peticion_cliente_articulo in cesta_cliente:\n",
    "                        cesta_cliente[peticion_cliente_articulo] += cantidad\n",
    "                    else:\n",
    "                        cesta_cliente = cantidad \n",
    "                    articulo[\"cantidad\"] -= cantidad\n",
    "                    print(f\"Han quedado añadidas {cantidad} unidades de {articulo[\"nombre\"]} a tu cesta.\")\n",
    "                    print(\"--------------\")\n",
    "                break\n",
    "        else:\n",
    "            print(f\"Disculpe. En estos momentos no disponemos de {peticion_cliente_articulo}\")\n",
    "\n",
    "        peticion2 = input(f\"¿Desea añadir a la cesta algún artículo más? Responda Si o No, por favor.\")\n",
    "\n",
    "        if peticion2.lower() == \"No\":\n",
    "            break\n",
    "    print(f\"Aquí tienes los artículos de tu {cesta_cliente}\")\n",
    "    print(\"-----------------\")\n",
    "\n",
    "    if cesta_cliente:\n",
    "        for nombre_articulo, cantidad_articulo in cesta_cliente.elementos():\n",
    "            for articulo in inventario:\n",
    "                if articulo[\"nombre\"].lower()== nombre_peticion2.lower():\n",
    "                    precio = articulo[\"precio\"]\n",
    "                    precio_total_cesta += precio * cantidad_articulo\n",
    "        print(f\"Perfecto. El total de sus artículos es de {precio_total_cesta} eur.\")\n",
    "        print(\"-----------------\")\n",
    "    else:\n",
    "        print(f\"No has seleccionado ningún artículo. Hasta otro día\")\n",
    "        return\n"
   ]
  },
  {
   "cell_type": "code",
   "execution_count": null,
   "id": "a48a34ff",
   "metadata": {},
   "outputs": [],
   "source": [
    "realizar_compra()"
   ]
  },
  {
   "cell_type": "markdown",
   "id": "a8847a79",
   "metadata": {},
   "source": [
    "EJERCICIOS VOLUNTARIOS (BONUS)"
   ]
  },
  {
   "cell_type": "markdown",
   "id": "9b6da1e2",
   "metadata": {},
   "source": [
    "8. `procesar_pago()`: Procesa el pago de una compra, calcula el cambio y\n",
    "muestra un mensaje de confirmación.\n",
    "- Utiliza un bloque `try...except` para manejar excepciones.\n",
    "- Solicita al cliente ingresar la cantidad total y la cantidad de pago\n",
    "usando un input.\n",
    "- Calcula el cambio y muestra un mensaje de pago exitoso o un error en\n",
    "caso de monto insuficiente."
   ]
  },
  {
   "cell_type": "code",
   "execution_count": null,
   "id": "0665ae4a",
   "metadata": {},
   "outputs": [],
   "source": []
  },
  {
   "cell_type": "markdown",
   "id": "9d298b95",
   "metadata": {},
   "source": [
    "9. `agregar_cliente(nombre, email)`: Agrega un nuevo cliente al registro de\n",
    "clientes. Debe recibir el nombre y el correo electrónico del cliente como\n",
    "parámetros.\n",
    "- Agrega un cliente al diccionario de clientes con su nombre y correo\n",
    "electrónico."
   ]
  },
  {
   "cell_type": "code",
   "execution_count": null,
   "id": "e643c82e",
   "metadata": {},
   "outputs": [],
   "source": []
  },
  {
   "cell_type": "markdown",
   "id": "67446b75",
   "metadata": {},
   "source": [
    "10. `ver_clientes()`: Muestra la lista de clientes registrados con sus\n",
    "nombres y correos electrónicos.\n",
    "- Utiliza un bucle `for` para recorrer la base de datos de clientes.\n",
    "- Imprime los detalles de cada cliente (nombre y correo electrónico)."
   ]
  },
  {
   "cell_type": "code",
   "execution_count": null,
   "id": "b607d635",
   "metadata": {},
   "outputs": [],
   "source": []
  },
  {
   "cell_type": "markdown",
   "id": "230cc5f3",
   "metadata": {},
   "source": [
    "11. `registrar_compra(nombre_cliente, carrito)`: Registra una compra para\n",
    "un cliente, actualiza las ventas totales y agrega la compra al historial del\n",
    "cliente. Debe recibir el nombre del cliente y el carrito de compras como\n",
    "parámetros.\n",
    "- Busca al cliente en el diccionario de clientes.\n",
    "- Si el cliente no esta en el diccionario de clientes, muestra que no\n",
    "se puede realizar la acción por que el cliente no está en el diccionario.\n",
    "- Calcula el total de la compra y registra la compra, incluyendo los\n",
    "productos y el total.\n",
    "- Ejemplo:\n",
    "```python\n",
    "carrito_cliente1 = {\"Camisa\": {\"precio\": 20, \"cantidad\": 3}}\n",
    "tienda.registrar_compra(\"Cliente1\", carrito_cliente1)\n",
    "```"
   ]
  },
  {
   "cell_type": "code",
   "execution_count": null,
   "id": "0a5dfae2",
   "metadata": {},
   "outputs": [],
   "source": []
  },
  {
   "cell_type": "markdown",
   "id": "39ed7d70",
   "metadata": {},
   "source": [
    "12. `ver_compras_cliente(nombre_cliente)`: Muestra el historial de compras\n",
    "de un cliente. Debe recibir el nombre del cliente como parámetro.\n",
    "- Busca al cliente en el diccionario de clientes.\n",
    "- Muestra las compras realizadas por el cliente, incluyendo detalles de\n",
    "productos y totales."
   ]
  },
  {
   "cell_type": "code",
   "execution_count": null,
   "id": "75c79aad",
   "metadata": {},
   "outputs": [],
   "source": []
  },
  {
   "cell_type": "markdown",
   "id": "748feffd",
   "metadata": {},
   "source": [
    "13. `calcular_ventas_totales()`: Muestra las ventas totales de la tienda.\n",
    "- Suma los totales de todas las compras realizadas y muestra el total\n",
    "de ventas totales en la tienda."
   ]
  }
 ],
 "metadata": {
  "kernelspec": {
   "display_name": "base",
   "language": "python",
   "name": "python3"
  },
  "language_info": {
   "codemirror_mode": {
    "name": "ipython",
    "version": 3
   },
   "file_extension": ".py",
   "mimetype": "text/x-python",
   "name": "python",
   "nbconvert_exporter": "python",
   "pygments_lexer": "ipython3",
   "version": "3.12.7"
  }
 },
 "nbformat": 4,
 "nbformat_minor": 5
}
